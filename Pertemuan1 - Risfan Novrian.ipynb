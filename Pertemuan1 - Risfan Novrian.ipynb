{
 "cells": [
  {
   "cell_type": "code",
   "execution_count": 1,
   "id": "0f36d263",
   "metadata": {},
   "outputs": [],
   "source": [
    "import numpy as np"
   ]
  },
  {
   "cell_type": "markdown",
   "id": "bed408f4",
   "metadata": {},
   "source": [
    "Sigma (Penjumlahan)"
   ]
  },
  {
   "cell_type": "markdown",
   "id": "dbd81294",
   "metadata": {},
   "source": [
    "$$\n",
    "\\sum_{i=1}^{100} 2^{2i+1}.\n",
    "$$"
   ]
  },
  {
   "cell_type": "code",
   "execution_count": 6,
   "id": "4c0fab72",
   "metadata": {},
   "outputs": [
    {
     "name": "stdout",
     "output_type": "stream",
     "text": [
      "Hasilnya =  20300\n"
     ]
    }
   ],
   "source": [
    "a = 0\n",
    "\n",
    "for i in range(1,101):\n",
    "    a = a + (2**2*i+1)\n",
    "    \n",
    "print(\"Hasilnya = \", a)"
   ]
  },
  {
   "cell_type": "markdown",
   "id": "3bba8e50",
   "metadata": {},
   "source": [
    "Pi (Perkalian)"
   ]
  },
  {
   "cell_type": "markdown",
   "id": "a24a54d0",
   "metadata": {},
   "source": [
    "$$\n",
    "\\prod_{j=1}^{50} 2j+2.\n",
    "$$"
   ]
  },
  {
   "cell_type": "code",
   "execution_count": 8,
   "id": "a6514d2e",
   "metadata": {},
   "outputs": [
    {
     "name": "stdout",
     "output_type": "stream",
     "text": [
      "Hasil =  181626063822123522020699080076184218412029452484926630583264631274340352000000000000\n"
     ]
    }
   ],
   "source": [
    "hasil = 1\n",
    "for j in range(1, 51+1):\n",
    "    hasil = hasil * abs(2*j+2)\n",
    "    \n",
    "print(\"Hasil = \", hasil)"
   ]
  },
  {
   "cell_type": "markdown",
   "id": "22d45dee",
   "metadata": {},
   "source": [
    "Faktorial"
   ]
  },
  {
   "cell_type": "markdown",
   "id": "0cf54660",
   "metadata": {},
   "source": [
    "$$\n",
    "10!\n",
    "$$"
   ]
  },
  {
   "cell_type": "code",
   "execution_count": 9,
   "id": "37bd4f70",
   "metadata": {},
   "outputs": [
    {
     "data": {
      "text/plain": [
       "3628800"
      ]
     },
     "execution_count": 9,
     "metadata": {},
     "output_type": "execute_result"
    }
   ],
   "source": [
    "def faktorial(n):\n",
    "    a=1\n",
    "    for i in range(1,n+1):\n",
    "        a = a*i\n",
    "    return(a)\n",
    "faktorial(10)"
   ]
  },
  {
   "cell_type": "markdown",
   "id": "82be8091",
   "metadata": {},
   "source": [
    "Absolute"
   ]
  },
  {
   "cell_type": "markdown",
   "id": "aad17d7e",
   "metadata": {},
   "source": [
    "$$\n",
    "f(x) = |2x-1|,\n",
    "f(-100)=\n",
    "$$"
   ]
  },
  {
   "cell_type": "code",
   "execution_count": 11,
   "id": "e064b102",
   "metadata": {},
   "outputs": [
    {
     "name": "stdout",
     "output_type": "stream",
     "text": [
      "Hasil =  201\n"
     ]
    }
   ],
   "source": [
    "def f(x):\n",
    "    return abs(2*x - 1)\n",
    "\n",
    "hasil = f(-100)\n",
    "print(\"Hasil = \", hasil)\n"
   ]
  },
  {
   "cell_type": "markdown",
   "id": "a488fd5a",
   "metadata": {},
   "source": [
    "Fungsi Sepotong-sepotong (Piecewise Function)"
   ]
  },
  {
   "cell_type": "markdown",
   "id": "75c39626",
   "metadata": {},
   "source": [
    "$$\n",
    "f(x)=\n",
    "\\begin{cases}\n",
    "x^{2} & \\text{x < 0}, \\\\\n",
    "x+2 & \\text{x >= 0}.\n",
    "\\end{cases}\n",
    "f(3)=\n",
    "$$"
   ]
  },
  {
   "cell_type": "code",
   "execution_count": 12,
   "id": "05f48a1f",
   "metadata": {},
   "outputs": [
    {
     "name": "stdout",
     "output_type": "stream",
     "text": [
      "Hasil =  5\n"
     ]
    }
   ],
   "source": [
    "def f(x):\n",
    "    if x < 0:\n",
    "        return x**2\n",
    "    else:\n",
    "        return x + 2\n",
    "\n",
    "hasil = f(3)\n",
    "print(\"Hasil = \", hasil)\n"
   ]
  },
  {
   "cell_type": "markdown",
   "id": "c8713a9f",
   "metadata": {},
   "source": [
    "Matrix"
   ]
  },
  {
   "cell_type": "markdown",
   "id": "ca5c5d6f",
   "metadata": {},
   "source": [
    "$$\n",
    "\\begin{bmatrix}\n",
    "2 & 3 \\\\\n",
    "1 & 5\n",
    "\\end{bmatrix}\n",
    "*\n",
    "\\begin{bmatrix}\n",
    "7 & 0.5 \\\\\n",
    "4 & 0\n",
    "\\end{bmatrix}\n",
    "$$"
   ]
  },
  {
   "cell_type": "code",
   "execution_count": 14,
   "id": "d39dfe98",
   "metadata": {},
   "outputs": [
    {
     "name": "stdout",
     "output_type": "stream",
     "text": [
      "[[26.   1. ]\n",
      " [27.   0.5]]\n"
     ]
    }
   ],
   "source": [
    "# Matriks pertama\n",
    "matrix1 = np.array([[2, 3],\n",
    "                    [1, 5]])\n",
    "\n",
    "# Matriks kedua\n",
    "matrix2 = np.array([[7, 0.5],\n",
    "                    [4, 0]])\n",
    "\n",
    "# Hasil perkalian matriks\n",
    "hasil_matrix = np.dot(matrix1, matrix2)\n",
    "\n",
    "print(hasil_matrix)\n"
   ]
  },
  {
   "cell_type": "code",
   "execution_count": null,
   "id": "9051c647",
   "metadata": {},
   "outputs": [],
   "source": []
  }
 ],
 "metadata": {
  "kernelspec": {
   "display_name": "Python 3 (ipykernel)",
   "language": "python",
   "name": "python3"
  },
  "language_info": {
   "codemirror_mode": {
    "name": "ipython",
    "version": 3
   },
   "file_extension": ".py",
   "mimetype": "text/x-python",
   "name": "python",
   "nbconvert_exporter": "python",
   "pygments_lexer": "ipython3",
   "version": "3.11.4"
  }
 },
 "nbformat": 4,
 "nbformat_minor": 5
}
